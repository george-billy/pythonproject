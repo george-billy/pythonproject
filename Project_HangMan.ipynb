{
 "cells": [
  {
   "cell_type": "markdown",
   "metadata": {},
   "source": [
    "# Welcome to Billy's Game. \n",
    "### First, you need to Type \"LetsPlay( )\" then \"hangman( )\""
   ]
  },
  {
   "cell_type": "code",
   "execution_count": 1,
   "metadata": {
    "scrolled": true
   },
   "outputs": [
    {
     "name": "stdout",
     "output_type": "stream",
     "text": [
      "type LetsPlay() to start the game!!!\n"
     ]
    }
   ],
   "source": [
    "\n",
    "from IPython.display import clear_output \n",
    "print('type LetsPlay() to start the game!!!')\n",
    "def LetsPlay(): \n",
    "    name = input(\"ENTER YOUR NAME: \") #Let the player input their name\n",
    "    print(\"WELCOME\", name, \"TO A SIMPLE HANGMAN GAME \")\n",
    "    print(\"#########################################\")\n",
    "    print(\"PLEASE TYPE hangman()\")\n",
    "    print(\"TRY TO GUESS THE TYPES OF ROCKS IN 9 TRIES OR LESS\")\n",
    "    print() \n",
    "    \n",
    "# THE START OF THE MAIN PROGRAM\n",
    "\n",
    "def hangman(): #Write hangman() to start the game\n",
    "        import random #For a random choice\n",
    "        word = random.choice([\"gabbro\",\"basalt\",\"granite\",\"andhesite\",\"obsidian\",\"diorite\"]) #Choices that we used in this game\n",
    "        validLetters= 'abcdefghijklmnopqrstuvwxyzABCDEFGHIJKLMNOPQRESTUVWXYZ' #The player only can guess the word with alphabet letters\n",
    "        turns = 10 #The player turns to guess the word\n",
    "        guessed = '' #Starts from blank   \n",
    "        while len(word) > 0: # The starter function to display \"_\"\n",
    "            msg = \"\" \n",
    "            missed = 0\n",
    "            for letter in word:\n",
    "                if letter in guessed:\n",
    "                    msg = msg + letter\n",
    "                else:\n",
    "                    msg = msg + \"_\" + \" \"\n",
    "                    missed += 1                \n",
    "            if msg == word:\n",
    "                print(msg)\n",
    "                print(\"YOU ARE CORRECT, THE WORD WAS: \", word)\n",
    "                if str(input(\"press space to restart the game: \")) != \"space\": # Function to restart the game\n",
    "                    clear_output()\n",
    "                    hangman()           \n",
    "            print(\"GUESS THE WORD:\", msg)\n",
    "            guess = input()        \n",
    "            if guess in validLetters: \n",
    "                guessed = guessed + guess\n",
    "            else:\n",
    "                print(\"ENTER A VALID LETTER: \")\n",
    "                guess = input()        \n",
    "            if guess not in word: \n",
    "                turns = turns - 1 #If you failed to guess the letter, the chance will be -1\n",
    "                if turns == 9:\n",
    "                    print(\"   o\")\n",
    "                if turns == 8:\n",
    "                    print(\"   o\")\n",
    "                    print(\"   |\")\n",
    "                if turns == 7:\n",
    "                    print(\"   o\")\n",
    "                    print(\"   |\")\n",
    "                    print(\"  /  \")\n",
    "                if turns == 6:\n",
    "                    print(\"   o\")\n",
    "                    print(\"   |\")\n",
    "                    print(\"  / \\ \")\n",
    "                if turns == 5:\n",
    "                    print(\"   o\")\n",
    "                    print(\"   |\")\n",
    "                    print(\" _/ \\ \")\n",
    "                if turns == 4:\n",
    "                    print(\"   o\")\n",
    "                    print(\"   |\")\n",
    "                    print(\" _/ \\_\")\n",
    "                if turns == 3:\n",
    "                    print(\"   o\")\n",
    "                    print(\"  -|\")\n",
    "                    print(\" _/ \\_\")\n",
    "                if turns == 2:\n",
    "                    print(\"   o\")\n",
    "                    print(\"  -|-\")\n",
    "                    print(\" _/ \\_\")\n",
    "                if turns == 1:\n",
    "                    print(\"YOU HAVE FAILED TO GUESS THE WORD:\",word)\n",
    "                    if str(input(\"press space to restart the game: \")) != \"space\": # Function to restart the game\n",
    "                        clear_output()\n",
    "                        hangman()\n",
    "                        \n",
    "                    \n",
    "                            \n"
   ]
  },
  {
   "cell_type": "code",
   "execution_count": null,
   "metadata": {},
   "outputs": [],
   "source": []
  }
 ],
 "metadata": {
  "kernelspec": {
   "display_name": "Python 3",
   "language": "python",
   "name": "python3"
  },
  "language_info": {
   "codemirror_mode": {
    "name": "ipython",
    "version": 3
   },
   "file_extension": ".py",
   "mimetype": "text/x-python",
   "name": "python",
   "nbconvert_exporter": "python",
   "pygments_lexer": "ipython3",
   "version": "3.7.4"
  }
 },
 "nbformat": 4,
 "nbformat_minor": 2
}
